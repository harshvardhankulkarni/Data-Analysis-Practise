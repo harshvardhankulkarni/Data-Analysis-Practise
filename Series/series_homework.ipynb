{
 "cells": [
  {
   "cell_type": "markdown",
   "id": "f25a38eb",
   "metadata": {},
   "source": [
    "#### Import pandas with its alias\n"
   ]
  },
  {
   "cell_type": "code",
   "execution_count": 1,
   "id": "b50fd072",
   "metadata": {},
   "outputs": [],
   "source": [
    "import pandas as pd"
   ]
  },
  {
   "cell_type": "markdown",
   "id": "1c1eb573",
   "metadata": {},
   "source": [
    "#### Load the `TopRichestInWorld.csv` file and make 'Name' the index and 'Age' the column\n"
   ]
  },
  {
   "cell_type": "code",
   "execution_count": null,
   "id": "2725b262",
   "metadata": {},
   "outputs": [
    {
     "data": {
      "text/html": [
       "<div>\n",
       "<style scoped>\n",
       "    .dataframe tbody tr th:only-of-type {\n",
       "        vertical-align: middle;\n",
       "    }\n",
       "\n",
       "    .dataframe tbody tr th {\n",
       "        vertical-align: top;\n",
       "    }\n",
       "\n",
       "    .dataframe thead th {\n",
       "        text-align: right;\n",
       "    }\n",
       "</style>\n",
       "<table border=\"1\" class=\"dataframe\">\n",
       "  <thead>\n",
       "    <tr style=\"text-align: right;\">\n",
       "      <th></th>\n",
       "      <th>Age</th>\n",
       "    </tr>\n",
       "    <tr>\n",
       "      <th>Name</th>\n",
       "      <th></th>\n",
       "    </tr>\n",
       "  </thead>\n",
       "  <tbody>\n",
       "    <tr>\n",
       "      <th>Elon Musk</th>\n",
       "      <td>50</td>\n",
       "    </tr>\n",
       "    <tr>\n",
       "      <th>Jeff Bezos</th>\n",
       "      <td>58</td>\n",
       "    </tr>\n",
       "    <tr>\n",
       "      <th>Bernard Arnault &amp; family</th>\n",
       "      <td>73</td>\n",
       "    </tr>\n",
       "    <tr>\n",
       "      <th>Bill Gates</th>\n",
       "      <td>66</td>\n",
       "    </tr>\n",
       "    <tr>\n",
       "      <th>Warren Buffett</th>\n",
       "      <td>91</td>\n",
       "    </tr>\n",
       "  </tbody>\n",
       "</table>\n",
       "</div>"
      ],
      "text/plain": [
       "                          Age\n",
       "Name                         \n",
       "Elon Musk                  50\n",
       "Jeff Bezos                 58\n",
       "Bernard Arnault & family   73\n",
       "Bill Gates                 66\n",
       "Warren Buffett             91"
      ]
     },
     "execution_count": 2,
     "metadata": {},
     "output_type": "execute_result"
    }
   ],
   "source": [
    "df = pd.read_csv(\"TopRichestInWorld.csv\", index_col=\"Name\", usecols=[\"Name\", \"Age\"])\n",
    "df.head()"
   ]
  },
  {
   "cell_type": "markdown",
   "id": "887579c8",
   "metadata": {},
   "source": [
    "#### Which person is the oldest?\n"
   ]
  },
  {
   "cell_type": "code",
   "execution_count": 3,
   "id": "fed5905a",
   "metadata": {},
   "outputs": [
    {
     "data": {
      "text/plain": [
       "Age    Lee Shau Kee\n",
       "dtype: object"
      ]
     },
     "execution_count": 3,
     "metadata": {},
     "output_type": "execute_result"
    }
   ],
   "source": [
    "df.idxmax()"
   ]
  },
  {
   "cell_type": "markdown",
   "id": "997a3c61",
   "metadata": {},
   "source": [
    "#### How old is he?\n"
   ]
  },
  {
   "cell_type": "code",
   "execution_count": 4,
   "id": "79abfe3d",
   "metadata": {},
   "outputs": [
    {
     "data": {
      "text/plain": [
       "Age    94\n",
       "dtype: int64"
      ]
     },
     "execution_count": 4,
     "metadata": {},
     "output_type": "execute_result"
    }
   ],
   "source": [
    "df.max()"
   ]
  },
  {
   "cell_type": "markdown",
   "id": "e435a49e",
   "metadata": {},
   "source": [
    "#### Sort the values from the oldest to youngest age to verify\n"
   ]
  },
  {
   "cell_type": "code",
   "execution_count": null,
   "id": "897d0c21",
   "metadata": {},
   "outputs": [
    {
     "data": {
      "text/html": [
       "<div>\n",
       "<style scoped>\n",
       "    .dataframe tbody tr th:only-of-type {\n",
       "        vertical-align: middle;\n",
       "    }\n",
       "\n",
       "    .dataframe tbody tr th {\n",
       "        vertical-align: top;\n",
       "    }\n",
       "\n",
       "    .dataframe thead th {\n",
       "        text-align: right;\n",
       "    }\n",
       "</style>\n",
       "<table border=\"1\" class=\"dataframe\">\n",
       "  <thead>\n",
       "    <tr style=\"text-align: right;\">\n",
       "      <th></th>\n",
       "      <th>Age</th>\n",
       "    </tr>\n",
       "    <tr>\n",
       "      <th>Name</th>\n",
       "      <th></th>\n",
       "    </tr>\n",
       "  </thead>\n",
       "  <tbody>\n",
       "    <tr>\n",
       "      <th>Lee Shau Kee</th>\n",
       "      <td>94</td>\n",
       "    </tr>\n",
       "  </tbody>\n",
       "</table>\n",
       "</div>"
      ],
      "text/plain": [
       "              Age\n",
       "Name             \n",
       "Lee Shau Kee   94"
      ]
     },
     "execution_count": 5,
     "metadata": {},
     "output_type": "execute_result"
    }
   ],
   "source": [
    "df.sort_values(by=\"Age\", ascending=False).head(1)"
   ]
  },
  {
   "cell_type": "markdown",
   "id": "4335d9b1",
   "metadata": {},
   "source": [
    "#### Which person is the youngest?\n"
   ]
  },
  {
   "cell_type": "code",
   "execution_count": 6,
   "id": "df45b19e",
   "metadata": {},
   "outputs": [
    {
     "data": {
      "text/plain": [
       "Age    Sam Bankman-Fried\n",
       "dtype: object"
      ]
     },
     "execution_count": 6,
     "metadata": {},
     "output_type": "execute_result"
    }
   ],
   "source": [
    "df.idxmin()"
   ]
  },
  {
   "cell_type": "markdown",
   "id": "1d895389",
   "metadata": {},
   "source": [
    "#### How young is the youngest?\n"
   ]
  },
  {
   "cell_type": "code",
   "execution_count": 7,
   "id": "560aed7c",
   "metadata": {},
   "outputs": [
    {
     "data": {
      "text/plain": [
       "Age    30\n",
       "dtype: int64"
      ]
     },
     "execution_count": 7,
     "metadata": {},
     "output_type": "execute_result"
    }
   ],
   "source": [
    "df.min()"
   ]
  },
  {
   "cell_type": "markdown",
   "id": "ce7dec62",
   "metadata": {},
   "source": [
    "#### What is the average age of all the millionaires? (Round it to 2 decimal places)\n"
   ]
  },
  {
   "cell_type": "code",
   "execution_count": 8,
   "id": "92acbe42",
   "metadata": {},
   "outputs": [
    {
     "data": {
      "text/plain": [
       "Age    67.12\n",
       "dtype: float64"
      ]
     },
     "execution_count": 8,
     "metadata": {},
     "output_type": "execute_result"
    }
   ],
   "source": [
    "df.mean().round(2)"
   ]
  },
  {
   "cell_type": "markdown",
   "id": "bc855fe3",
   "metadata": {},
   "source": [
    "#### Save the series as a csv file named: sample.csv\n"
   ]
  },
  {
   "cell_type": "code",
   "execution_count": null,
   "id": "d2b3ed70",
   "metadata": {},
   "outputs": [],
   "source": [
    "df.to_csv(\"sample.csv\")"
   ]
  },
  {
   "cell_type": "markdown",
   "id": "c59410b5",
   "metadata": {},
   "source": [
    "#### Read the csv you just saved\n"
   ]
  },
  {
   "cell_type": "code",
   "execution_count": null,
   "id": "a673f042",
   "metadata": {},
   "outputs": [
    {
     "data": {
      "text/html": [
       "<div>\n",
       "<style scoped>\n",
       "    .dataframe tbody tr th:only-of-type {\n",
       "        vertical-align: middle;\n",
       "    }\n",
       "\n",
       "    .dataframe tbody tr th {\n",
       "        vertical-align: top;\n",
       "    }\n",
       "\n",
       "    .dataframe thead th {\n",
       "        text-align: right;\n",
       "    }\n",
       "</style>\n",
       "<table border=\"1\" class=\"dataframe\">\n",
       "  <thead>\n",
       "    <tr style=\"text-align: right;\">\n",
       "      <th></th>\n",
       "      <th>Name</th>\n",
       "      <th>Age</th>\n",
       "    </tr>\n",
       "  </thead>\n",
       "  <tbody>\n",
       "    <tr>\n",
       "      <th>0</th>\n",
       "      <td>Elon Musk</td>\n",
       "      <td>50</td>\n",
       "    </tr>\n",
       "    <tr>\n",
       "      <th>1</th>\n",
       "      <td>Jeff Bezos</td>\n",
       "      <td>58</td>\n",
       "    </tr>\n",
       "    <tr>\n",
       "      <th>2</th>\n",
       "      <td>Bernard Arnault &amp; family</td>\n",
       "      <td>73</td>\n",
       "    </tr>\n",
       "    <tr>\n",
       "      <th>3</th>\n",
       "      <td>Bill Gates</td>\n",
       "      <td>66</td>\n",
       "    </tr>\n",
       "    <tr>\n",
       "      <th>4</th>\n",
       "      <td>Warren Buffett</td>\n",
       "      <td>91</td>\n",
       "    </tr>\n",
       "  </tbody>\n",
       "</table>\n",
       "</div>"
      ],
      "text/plain": [
       "                       Name  Age\n",
       "0                 Elon Musk   50\n",
       "1                Jeff Bezos   58\n",
       "2  Bernard Arnault & family   73\n",
       "3                Bill Gates   66\n",
       "4            Warren Buffett   91"
      ]
     },
     "execution_count": 10,
     "metadata": {},
     "output_type": "execute_result"
    }
   ],
   "source": [
    "sample = pd.read_csv(\"sample.csv\")\n",
    "sample.head()"
   ]
  }
 ],
 "metadata": {
  "kernelspec": {
   "display_name": "Python 3",
   "language": "python",
   "name": "python3"
  },
  "language_info": {
   "codemirror_mode": {
    "name": "ipython",
    "version": 3
   },
   "file_extension": ".py",
   "mimetype": "text/x-python",
   "name": "python",
   "nbconvert_exporter": "python",
   "pygments_lexer": "ipython3",
   "version": "3.12.7"
  }
 },
 "nbformat": 4,
 "nbformat_minor": 5
}
