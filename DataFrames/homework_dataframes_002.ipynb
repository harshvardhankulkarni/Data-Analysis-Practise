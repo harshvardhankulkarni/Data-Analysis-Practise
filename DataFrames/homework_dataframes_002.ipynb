{
 "cells": [
  {
   "cell_type": "markdown",
   "id": "6bdf3980",
   "metadata": {},
   "source": [
    "Import pandas\n"
   ]
  },
  {
   "cell_type": "code",
   "execution_count": 1,
   "id": "e6c7a764",
   "metadata": {},
   "outputs": [],
   "source": [
    "import pandas as pd"
   ]
  },
  {
   "cell_type": "markdown",
   "id": "6a7bb9b9",
   "metadata": {},
   "source": [
    "Read the `titanic3.xls` file and set 'name' as the index\n"
   ]
  },
  {
   "cell_type": "code",
   "execution_count": 2,
   "id": "57598932",
   "metadata": {},
   "outputs": [
    {
     "data": {
      "text/html": [
       "<div>\n",
       "<style scoped>\n",
       "    .dataframe tbody tr th:only-of-type {\n",
       "        vertical-align: middle;\n",
       "    }\n",
       "\n",
       "    .dataframe tbody tr th {\n",
       "        vertical-align: top;\n",
       "    }\n",
       "\n",
       "    .dataframe thead th {\n",
       "        text-align: right;\n",
       "    }\n",
       "</style>\n",
       "<table border=\"1\" class=\"dataframe\">\n",
       "  <thead>\n",
       "    <tr style=\"text-align: right;\">\n",
       "      <th></th>\n",
       "      <th>pclass</th>\n",
       "      <th>survived</th>\n",
       "      <th>sex</th>\n",
       "      <th>age</th>\n",
       "      <th>sibsp</th>\n",
       "      <th>parch</th>\n",
       "      <th>ticket</th>\n",
       "      <th>fare</th>\n",
       "      <th>cabin</th>\n",
       "      <th>embarked</th>\n",
       "      <th>boat</th>\n",
       "      <th>body</th>\n",
       "      <th>home.dest</th>\n",
       "    </tr>\n",
       "    <tr>\n",
       "      <th>name</th>\n",
       "      <th></th>\n",
       "      <th></th>\n",
       "      <th></th>\n",
       "      <th></th>\n",
       "      <th></th>\n",
       "      <th></th>\n",
       "      <th></th>\n",
       "      <th></th>\n",
       "      <th></th>\n",
       "      <th></th>\n",
       "      <th></th>\n",
       "      <th></th>\n",
       "      <th></th>\n",
       "    </tr>\n",
       "  </thead>\n",
       "  <tbody>\n",
       "    <tr>\n",
       "      <th>Allen, Miss. Elisabeth Walton</th>\n",
       "      <td>1</td>\n",
       "      <td>1</td>\n",
       "      <td>female</td>\n",
       "      <td>29.0000</td>\n",
       "      <td>0</td>\n",
       "      <td>0</td>\n",
       "      <td>24160</td>\n",
       "      <td>211.3375</td>\n",
       "      <td>B5</td>\n",
       "      <td>S</td>\n",
       "      <td>2</td>\n",
       "      <td>NaN</td>\n",
       "      <td>St Louis, MO</td>\n",
       "    </tr>\n",
       "    <tr>\n",
       "      <th>Allison, Master. Hudson Trevor</th>\n",
       "      <td>1</td>\n",
       "      <td>1</td>\n",
       "      <td>male</td>\n",
       "      <td>0.9167</td>\n",
       "      <td>1</td>\n",
       "      <td>2</td>\n",
       "      <td>113781</td>\n",
       "      <td>151.5500</td>\n",
       "      <td>C22 C26</td>\n",
       "      <td>S</td>\n",
       "      <td>11</td>\n",
       "      <td>NaN</td>\n",
       "      <td>Montreal, PQ / Chesterville, ON</td>\n",
       "    </tr>\n",
       "    <tr>\n",
       "      <th>Allison, Miss. Helen Loraine</th>\n",
       "      <td>1</td>\n",
       "      <td>0</td>\n",
       "      <td>female</td>\n",
       "      <td>2.0000</td>\n",
       "      <td>1</td>\n",
       "      <td>2</td>\n",
       "      <td>113781</td>\n",
       "      <td>151.5500</td>\n",
       "      <td>C22 C26</td>\n",
       "      <td>S</td>\n",
       "      <td>NaN</td>\n",
       "      <td>NaN</td>\n",
       "      <td>Montreal, PQ / Chesterville, ON</td>\n",
       "    </tr>\n",
       "    <tr>\n",
       "      <th>Allison, Mr. Hudson Joshua Creighton</th>\n",
       "      <td>1</td>\n",
       "      <td>0</td>\n",
       "      <td>male</td>\n",
       "      <td>30.0000</td>\n",
       "      <td>1</td>\n",
       "      <td>2</td>\n",
       "      <td>113781</td>\n",
       "      <td>151.5500</td>\n",
       "      <td>C22 C26</td>\n",
       "      <td>S</td>\n",
       "      <td>NaN</td>\n",
       "      <td>135.0</td>\n",
       "      <td>Montreal, PQ / Chesterville, ON</td>\n",
       "    </tr>\n",
       "    <tr>\n",
       "      <th>Allison, Mrs. Hudson J C (Bessie Waldo Daniels)</th>\n",
       "      <td>1</td>\n",
       "      <td>0</td>\n",
       "      <td>female</td>\n",
       "      <td>25.0000</td>\n",
       "      <td>1</td>\n",
       "      <td>2</td>\n",
       "      <td>113781</td>\n",
       "      <td>151.5500</td>\n",
       "      <td>C22 C26</td>\n",
       "      <td>S</td>\n",
       "      <td>NaN</td>\n",
       "      <td>NaN</td>\n",
       "      <td>Montreal, PQ / Chesterville, ON</td>\n",
       "    </tr>\n",
       "  </tbody>\n",
       "</table>\n",
       "</div>"
      ],
      "text/plain": [
       "                                                 pclass  survived     sex  \\\n",
       "name                                                                        \n",
       "Allen, Miss. Elisabeth Walton                         1         1  female   \n",
       "Allison, Master. Hudson Trevor                        1         1    male   \n",
       "Allison, Miss. Helen Loraine                          1         0  female   \n",
       "Allison, Mr. Hudson Joshua Creighton                  1         0    male   \n",
       "Allison, Mrs. Hudson J C (Bessie Waldo Daniels)       1         0  female   \n",
       "\n",
       "                                                     age  sibsp  parch  \\\n",
       "name                                                                     \n",
       "Allen, Miss. Elisabeth Walton                    29.0000      0      0   \n",
       "Allison, Master. Hudson Trevor                    0.9167      1      2   \n",
       "Allison, Miss. Helen Loraine                      2.0000      1      2   \n",
       "Allison, Mr. Hudson Joshua Creighton             30.0000      1      2   \n",
       "Allison, Mrs. Hudson J C (Bessie Waldo Daniels)  25.0000      1      2   \n",
       "\n",
       "                                                 ticket      fare    cabin  \\\n",
       "name                                                                         \n",
       "Allen, Miss. Elisabeth Walton                     24160  211.3375       B5   \n",
       "Allison, Master. Hudson Trevor                   113781  151.5500  C22 C26   \n",
       "Allison, Miss. Helen Loraine                     113781  151.5500  C22 C26   \n",
       "Allison, Mr. Hudson Joshua Creighton             113781  151.5500  C22 C26   \n",
       "Allison, Mrs. Hudson J C (Bessie Waldo Daniels)  113781  151.5500  C22 C26   \n",
       "\n",
       "                                                embarked boat   body  \\\n",
       "name                                                                   \n",
       "Allen, Miss. Elisabeth Walton                          S    2    NaN   \n",
       "Allison, Master. Hudson Trevor                         S   11    NaN   \n",
       "Allison, Miss. Helen Loraine                           S  NaN    NaN   \n",
       "Allison, Mr. Hudson Joshua Creighton                   S  NaN  135.0   \n",
       "Allison, Mrs. Hudson J C (Bessie Waldo Daniels)        S  NaN    NaN   \n",
       "\n",
       "                                                                       home.dest  \n",
       "name                                                                              \n",
       "Allen, Miss. Elisabeth Walton                                       St Louis, MO  \n",
       "Allison, Master. Hudson Trevor                   Montreal, PQ / Chesterville, ON  \n",
       "Allison, Miss. Helen Loraine                     Montreal, PQ / Chesterville, ON  \n",
       "Allison, Mr. Hudson Joshua Creighton             Montreal, PQ / Chesterville, ON  \n",
       "Allison, Mrs. Hudson J C (Bessie Waldo Daniels)  Montreal, PQ / Chesterville, ON  "
      ]
     },
     "execution_count": 2,
     "metadata": {},
     "output_type": "execute_result"
    }
   ],
   "source": [
    "titanic = pd.read_excel(\"titanic3.xls\", index_col=\"name\")\n",
    "titanic.head()"
   ]
  },
  {
   "cell_type": "markdown",
   "id": "2dc77077",
   "metadata": {},
   "source": [
    "Drop the following columns: `['home.dest', 'embarked', 'sibsp', 'parch']`\n"
   ]
  },
  {
   "cell_type": "code",
   "execution_count": 3,
   "id": "3943b925",
   "metadata": {},
   "outputs": [],
   "source": [
    "titanic.drop(columns=[\"home.dest\", \"embarked\", \"sibsp\", \"parch\"], inplace=True)"
   ]
  },
  {
   "cell_type": "markdown",
   "id": "ae4450a7",
   "metadata": {},
   "source": [
    "Filter out all the passengers which did not survive.\n"
   ]
  },
  {
   "cell_type": "code",
   "execution_count": 4,
   "id": "2358df88",
   "metadata": {},
   "outputs": [],
   "source": [
    "titanic = titanic[titanic[\"survived\"] == 1]"
   ]
  },
  {
   "cell_type": "markdown",
   "id": "e449487b",
   "metadata": {},
   "source": [
    "Considering that the **body** column is only used for passengers who did not survive, drop that column, and then do the same thing for the **survived** column.\n"
   ]
  },
  {
   "cell_type": "code",
   "execution_count": 5,
   "id": "502abab4",
   "metadata": {},
   "outputs": [],
   "source": [
    "titanic.drop(columns=[\"body\", \"survived\"], inplace=True)"
   ]
  },
  {
   "cell_type": "markdown",
   "id": "d696f643",
   "metadata": {},
   "source": [
    "What is the max **fare** in **3rd class**?\n"
   ]
  },
  {
   "cell_type": "code",
   "execution_count": 6,
   "id": "c8c8333a",
   "metadata": {},
   "outputs": [
    {
     "data": {
      "text/plain": [
       "np.float64(56.4958)"
      ]
     },
     "execution_count": 6,
     "metadata": {},
     "output_type": "execute_result"
    }
   ],
   "source": [
    "titanic.loc[titanic[\"pclass\"] == 3, \"fare\"].max()"
   ]
  },
  {
   "cell_type": "markdown",
   "id": "3b0a2fd4",
   "metadata": {},
   "source": [
    "Rename the index name of 'name' to 'Passenger'\n"
   ]
  },
  {
   "cell_type": "code",
   "execution_count": 7,
   "id": "02aab238",
   "metadata": {},
   "outputs": [],
   "source": [
    "titanic.index.name = \"Passenger\""
   ]
  },
  {
   "cell_type": "markdown",
   "id": "23eb0c26",
   "metadata": {},
   "source": [
    "**BONUS**\n",
    "\n",
    "Create a new column that's called \"Free Coffee\", insert 1 if a passenger is either in 1st or 2nd class, otherwise insert 0\n"
   ]
  },
  {
   "cell_type": "code",
   "execution_count": 8,
   "id": "9182fad8",
   "metadata": {},
   "outputs": [],
   "source": [
    "titanic[\"Free Coffee\"] = 0\n",
    "\n",
    "titanic.loc[titanic[\"pclass\"].isin([1, 2]), \"Free Coffee\"] = 1"
   ]
  },
  {
   "cell_type": "markdown",
   "id": "126c79ed",
   "metadata": {},
   "source": [
    "Use value_counts() to verify that 3rd class doesn't get any free coffee\n"
   ]
  },
  {
   "cell_type": "code",
   "execution_count": 9,
   "id": "98f2fa1d",
   "metadata": {},
   "outputs": [
    {
     "data": {
      "text/plain": [
       "pclass  Free Coffee\n",
       "1       1              200\n",
       "3       0              181\n",
       "2       1              119\n",
       "Name: count, dtype: int64"
      ]
     },
     "execution_count": 9,
     "metadata": {},
     "output_type": "execute_result"
    }
   ],
   "source": [
    "titanic[[\"pclass\", \"Free Coffee\"]].value_counts()"
   ]
  }
 ],
 "metadata": {
  "kernelspec": {
   "display_name": "Python 3",
   "language": "python",
   "name": "python3"
  },
  "language_info": {
   "codemirror_mode": {
    "name": "ipython",
    "version": 3
   },
   "file_extension": ".py",
   "mimetype": "text/x-python",
   "name": "python",
   "nbconvert_exporter": "python",
   "pygments_lexer": "ipython3",
   "version": "3.12.7"
  }
 },
 "nbformat": 4,
 "nbformat_minor": 5
}
