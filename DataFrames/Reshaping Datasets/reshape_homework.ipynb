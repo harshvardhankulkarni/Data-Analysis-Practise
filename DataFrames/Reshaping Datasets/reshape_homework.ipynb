{
 "cells": [
  {
   "cell_type": "markdown",
   "id": "47b6c9ac",
   "metadata": {},
   "source": [
    "Import pandas"
   ]
  },
  {
   "cell_type": "code",
   "execution_count": null,
   "id": "c0158f66",
   "metadata": {},
   "outputs": [],
   "source": []
  },
  {
   "cell_type": "markdown",
   "id": "6a9e1a83",
   "metadata": {},
   "source": [
    "Create a DataFrame called `exams` from the `exams.csv` file"
   ]
  },
  {
   "cell_type": "code",
   "execution_count": null,
   "id": "a7935e2b",
   "metadata": {},
   "outputs": [],
   "source": []
  },
  {
   "cell_type": "markdown",
   "id": "16d971bf",
   "metadata": {},
   "source": [
    "Create a column named 'total' which contains the sum of the `math score`, `reading score`, and `writing score`."
   ]
  },
  {
   "cell_type": "code",
   "execution_count": null,
   "id": "dc4c77e0",
   "metadata": {},
   "outputs": [],
   "source": []
  },
  {
   "cell_type": "markdown",
   "id": "e3a5e80d",
   "metadata": {},
   "source": [
    "Group the exams by `gender` & `lunch`"
   ]
  },
  {
   "cell_type": "code",
   "execution_count": null,
   "id": "684f1468",
   "metadata": {},
   "outputs": [],
   "source": []
  },
  {
   "cell_type": "markdown",
   "id": "ce3191c8",
   "metadata": {},
   "source": [
    "get back the `['max', 'min', 'mean']` for the `total` for each group and assign that DataFrame to a variable called `stats`"
   ]
  },
  {
   "cell_type": "code",
   "execution_count": null,
   "id": "b5cfffb2",
   "metadata": {},
   "outputs": [],
   "source": []
  },
  {
   "cell_type": "markdown",
   "id": "9f1f6a11",
   "metadata": {},
   "source": [
    "Sort the stats by the mean in descending order"
   ]
  },
  {
   "cell_type": "code",
   "execution_count": null,
   "id": "be2f159c",
   "metadata": {},
   "outputs": [],
   "source": []
  },
  {
   "cell_type": "code",
   "execution_count": null,
   "id": "fa36f6d1",
   "metadata": {},
   "outputs": [],
   "source": []
  }
 ],
 "metadata": {
  "kernelspec": {
   "display_name": "Python 3 (ipykernel)",
   "language": "python",
   "name": "python3"
  },
  "language_info": {
   "codemirror_mode": {
    "name": "ipython",
    "version": 3
   },
   "file_extension": ".py",
   "mimetype": "text/x-python",
   "name": "python",
   "nbconvert_exporter": "python",
   "pygments_lexer": "ipython3",
   "version": "3.10.9"
  }
 },
 "nbformat": 4,
 "nbformat_minor": 5
}
