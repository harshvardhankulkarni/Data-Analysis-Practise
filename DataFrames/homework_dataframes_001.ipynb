{
 "cells": [
  {
   "cell_type": "markdown",
   "id": "2761f02b",
   "metadata": {},
   "source": [
    "Import pandas\n"
   ]
  },
  {
   "cell_type": "code",
   "execution_count": 18,
   "id": "2ab87bd3",
   "metadata": {},
   "outputs": [],
   "source": [
    "import pandas as pd"
   ]
  },
  {
   "cell_type": "markdown",
   "id": "7cc6805c",
   "metadata": {},
   "source": [
    "Read the `imdb_top_1000.csv` file with the following columns:\n",
    "\n",
    "`['Series_Title' ,'IMDB_Rating', 'No_of_Votes', 'Gross', 'Released_Year', 'Genre']`\n"
   ]
  },
  {
   "cell_type": "code",
   "execution_count": 19,
   "id": "fdfd0d5c",
   "metadata": {},
   "outputs": [
    {
     "data": {
      "text/html": [
       "<div>\n",
       "<style scoped>\n",
       "    .dataframe tbody tr th:only-of-type {\n",
       "        vertical-align: middle;\n",
       "    }\n",
       "\n",
       "    .dataframe tbody tr th {\n",
       "        vertical-align: top;\n",
       "    }\n",
       "\n",
       "    .dataframe thead th {\n",
       "        text-align: right;\n",
       "    }\n",
       "</style>\n",
       "<table border=\"1\" class=\"dataframe\">\n",
       "  <thead>\n",
       "    <tr style=\"text-align: right;\">\n",
       "      <th></th>\n",
       "      <th>Series_Title</th>\n",
       "      <th>Released_Year</th>\n",
       "      <th>Genre</th>\n",
       "      <th>IMDB_Rating</th>\n",
       "      <th>No_of_Votes</th>\n",
       "      <th>Gross</th>\n",
       "    </tr>\n",
       "  </thead>\n",
       "  <tbody>\n",
       "    <tr>\n",
       "      <th>0</th>\n",
       "      <td>The Shawshank Redemption</td>\n",
       "      <td>1994</td>\n",
       "      <td>Drama</td>\n",
       "      <td>9.3</td>\n",
       "      <td>2343110</td>\n",
       "      <td>28,341,469</td>\n",
       "    </tr>\n",
       "    <tr>\n",
       "      <th>1</th>\n",
       "      <td>The Godfather</td>\n",
       "      <td>1972</td>\n",
       "      <td>Crime, Drama</td>\n",
       "      <td>9.2</td>\n",
       "      <td>1620367</td>\n",
       "      <td>134,966,411</td>\n",
       "    </tr>\n",
       "    <tr>\n",
       "      <th>2</th>\n",
       "      <td>The Dark Knight</td>\n",
       "      <td>2008</td>\n",
       "      <td>Action, Crime, Drama</td>\n",
       "      <td>9.0</td>\n",
       "      <td>2303232</td>\n",
       "      <td>534,858,444</td>\n",
       "    </tr>\n",
       "    <tr>\n",
       "      <th>3</th>\n",
       "      <td>The Godfather: Part II</td>\n",
       "      <td>1974</td>\n",
       "      <td>Crime, Drama</td>\n",
       "      <td>9.0</td>\n",
       "      <td>1129952</td>\n",
       "      <td>57,300,000</td>\n",
       "    </tr>\n",
       "    <tr>\n",
       "      <th>4</th>\n",
       "      <td>12 Angry Men</td>\n",
       "      <td>1957</td>\n",
       "      <td>Crime, Drama</td>\n",
       "      <td>9.0</td>\n",
       "      <td>689845</td>\n",
       "      <td>4,360,000</td>\n",
       "    </tr>\n",
       "  </tbody>\n",
       "</table>\n",
       "</div>"
      ],
      "text/plain": [
       "               Series_Title Released_Year                 Genre  IMDB_Rating  \\\n",
       "0  The Shawshank Redemption          1994                 Drama          9.3   \n",
       "1             The Godfather          1972          Crime, Drama          9.2   \n",
       "2           The Dark Knight          2008  Action, Crime, Drama          9.0   \n",
       "3    The Godfather: Part II          1974          Crime, Drama          9.0   \n",
       "4              12 Angry Men          1957          Crime, Drama          9.0   \n",
       "\n",
       "   No_of_Votes        Gross  \n",
       "0      2343110   28,341,469  \n",
       "1      1620367  134,966,411  \n",
       "2      2303232  534,858,444  \n",
       "3      1129952   57,300,000  \n",
       "4       689845    4,360,000  "
      ]
     },
     "execution_count": 19,
     "metadata": {},
     "output_type": "execute_result"
    }
   ],
   "source": [
    "df = pd.read_csv(\n",
    "    \"imdb_top_1000.csv\",\n",
    "    usecols=[\n",
    "        \"Series_Title\",\n",
    "        \"IMDB_Rating\",\n",
    "        \"No_of_Votes\",\n",
    "        \"Gross\",\n",
    "        \"Released_Year\",\n",
    "        \"Genre\",\n",
    "    ],\n",
    ")\n",
    "df.head()"
   ]
  },
  {
   "cell_type": "markdown",
   "id": "c172f1aa",
   "metadata": {},
   "source": [
    "Find the lowest scored movie with the lowest amount of votes\n"
   ]
  },
  {
   "cell_type": "code",
   "execution_count": 20,
   "id": "3d7b23ca",
   "metadata": {},
   "outputs": [
    {
     "data": {
      "text/html": [
       "<div>\n",
       "<style scoped>\n",
       "    .dataframe tbody tr th:only-of-type {\n",
       "        vertical-align: middle;\n",
       "    }\n",
       "\n",
       "    .dataframe tbody tr th {\n",
       "        vertical-align: top;\n",
       "    }\n",
       "\n",
       "    .dataframe thead th {\n",
       "        text-align: right;\n",
       "    }\n",
       "</style>\n",
       "<table border=\"1\" class=\"dataframe\">\n",
       "  <thead>\n",
       "    <tr style=\"text-align: right;\">\n",
       "      <th></th>\n",
       "      <th>Series_Title</th>\n",
       "      <th>Released_Year</th>\n",
       "      <th>Genre</th>\n",
       "      <th>IMDB_Rating</th>\n",
       "      <th>No_of_Votes</th>\n",
       "      <th>Gross</th>\n",
       "    </tr>\n",
       "  </thead>\n",
       "  <tbody>\n",
       "    <tr>\n",
       "      <th>989</th>\n",
       "      <td>The Long Goodbye</td>\n",
       "      <td>1973</td>\n",
       "      <td>Comedy, Crime, Drama</td>\n",
       "      <td>7.6</td>\n",
       "      <td>26337</td>\n",
       "      <td>959,000</td>\n",
       "    </tr>\n",
       "  </tbody>\n",
       "</table>\n",
       "</div>"
      ],
      "text/plain": [
       "         Series_Title Released_Year                 Genre  IMDB_Rating  \\\n",
       "989  The Long Goodbye          1973  Comedy, Crime, Drama          7.6   \n",
       "\n",
       "     No_of_Votes    Gross  \n",
       "989        26337  959,000  "
      ]
     },
     "execution_count": 20,
     "metadata": {},
     "output_type": "execute_result"
    }
   ],
   "source": [
    "df.nsmallest(n=1, columns=[\"IMDB_Rating\", \"No_of_Votes\"])"
   ]
  },
  {
   "cell_type": "markdown",
   "id": "1d952a99",
   "metadata": {},
   "source": [
    "Find the top 5 genres\n"
   ]
  },
  {
   "cell_type": "code",
   "execution_count": 21,
   "id": "573d2984",
   "metadata": {},
   "outputs": [
    {
     "data": {
      "text/plain": [
       "Genre\n",
       "Drama                     85\n",
       "Drama, Romance            37\n",
       "Comedy, Drama             35\n",
       "Comedy, Drama, Romance    31\n",
       "Action, Crime, Drama      30\n",
       "Name: count, dtype: int64"
      ]
     },
     "execution_count": 21,
     "metadata": {},
     "output_type": "execute_result"
    }
   ],
   "source": [
    "df.value_counts(\"Genre\").head()"
   ]
  },
  {
   "cell_type": "markdown",
   "id": "092cf9b1",
   "metadata": {},
   "source": [
    "**_Bonus: What are the top 3 grossing movies?_**\n"
   ]
  },
  {
   "cell_type": "code",
   "execution_count": 22,
   "id": "ae237b31",
   "metadata": {},
   "outputs": [
    {
     "name": "stderr",
     "output_type": "stream",
     "text": [
      "C:\\Users\\harsh\\AppData\\Local\\Temp\\ipykernel_12028\\958508843.py:2: FutureWarning: A value is trying to be set on a copy of a DataFrame or Series through chained assignment using an inplace method.\n",
      "The behavior will change in pandas 3.0. This inplace method will never work because the intermediate object on which we are setting values always behaves as a copy.\n",
      "\n",
      "For example, when doing 'df[col].method(value, inplace=True)', try using 'df.method({col: value}, inplace=True)' or df[col] = df[col].method(value) instead, to perform the operation inplace on the original object.\n",
      "\n",
      "\n",
      "  df[\"Gross\"].fillna(0, inplace=True)\n"
     ]
    }
   ],
   "source": [
    "df[\"Gross\"] = df[\"Gross\"].str.replace(\",\", \"\")\n",
    "df[\"Gross\"].fillna(0, inplace=True)\n",
    "df[\"Gross\"] = df[\"Gross\"].astype(\"int64\")"
   ]
  },
  {
   "cell_type": "code",
   "execution_count": 23,
   "id": "0e6d2d4d",
   "metadata": {},
   "outputs": [
    {
     "data": {
      "text/html": [
       "<div>\n",
       "<style scoped>\n",
       "    .dataframe tbody tr th:only-of-type {\n",
       "        vertical-align: middle;\n",
       "    }\n",
       "\n",
       "    .dataframe tbody tr th {\n",
       "        vertical-align: top;\n",
       "    }\n",
       "\n",
       "    .dataframe thead th {\n",
       "        text-align: right;\n",
       "    }\n",
       "</style>\n",
       "<table border=\"1\" class=\"dataframe\">\n",
       "  <thead>\n",
       "    <tr style=\"text-align: right;\">\n",
       "      <th></th>\n",
       "      <th>Series_Title</th>\n",
       "      <th>Released_Year</th>\n",
       "      <th>Genre</th>\n",
       "      <th>IMDB_Rating</th>\n",
       "      <th>No_of_Votes</th>\n",
       "      <th>Gross</th>\n",
       "    </tr>\n",
       "  </thead>\n",
       "  <tbody>\n",
       "    <tr>\n",
       "      <th>477</th>\n",
       "      <td>Star Wars: Episode VII - The Force Awakens</td>\n",
       "      <td>2015</td>\n",
       "      <td>Action, Adventure, Sci-Fi</td>\n",
       "      <td>7.9</td>\n",
       "      <td>860823</td>\n",
       "      <td>936662225</td>\n",
       "    </tr>\n",
       "    <tr>\n",
       "      <th>59</th>\n",
       "      <td>Avengers: Endgame</td>\n",
       "      <td>2019</td>\n",
       "      <td>Action, Adventure, Drama</td>\n",
       "      <td>8.4</td>\n",
       "      <td>809955</td>\n",
       "      <td>858373000</td>\n",
       "    </tr>\n",
       "    <tr>\n",
       "      <th>623</th>\n",
       "      <td>Avatar</td>\n",
       "      <td>2009</td>\n",
       "      <td>Action, Adventure, Fantasy</td>\n",
       "      <td>7.8</td>\n",
       "      <td>1118998</td>\n",
       "      <td>760507625</td>\n",
       "    </tr>\n",
       "  </tbody>\n",
       "</table>\n",
       "</div>"
      ],
      "text/plain": [
       "                                   Series_Title Released_Year  \\\n",
       "477  Star Wars: Episode VII - The Force Awakens          2015   \n",
       "59                            Avengers: Endgame          2019   \n",
       "623                                      Avatar          2009   \n",
       "\n",
       "                          Genre  IMDB_Rating  No_of_Votes      Gross  \n",
       "477   Action, Adventure, Sci-Fi          7.9       860823  936662225  \n",
       "59     Action, Adventure, Drama          8.4       809955  858373000  \n",
       "623  Action, Adventure, Fantasy          7.8      1118998  760507625  "
      ]
     },
     "execution_count": 23,
     "metadata": {},
     "output_type": "execute_result"
    }
   ],
   "source": [
    "df.nlargest(n=3, columns=[\"Gross\"])"
   ]
  }
 ],
 "metadata": {
  "kernelspec": {
   "display_name": "Python 3",
   "language": "python",
   "name": "python3"
  },
  "language_info": {
   "codemirror_mode": {
    "name": "ipython",
    "version": 3
   },
   "file_extension": ".py",
   "mimetype": "text/x-python",
   "name": "python",
   "nbconvert_exporter": "python",
   "pygments_lexer": "ipython3",
   "version": "3.12.7"
  }
 },
 "nbformat": 4,
 "nbformat_minor": 5
}
