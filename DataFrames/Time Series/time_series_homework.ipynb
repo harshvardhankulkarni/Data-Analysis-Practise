{
 "cells": [
  {
   "cell_type": "markdown",
   "id": "b8291ec0",
   "metadata": {},
   "source": [
    "Import pandas\n"
   ]
  },
  {
   "cell_type": "code",
   "execution_count": 1,
   "id": "d2768640",
   "metadata": {},
   "outputs": [],
   "source": [
    "import pandas as pd"
   ]
  },
  {
   "cell_type": "markdown",
   "id": "5a66040f",
   "metadata": {},
   "source": [
    "Create a DatetimeIndex with 3 different timestamps and assign it to a variable called `dates`\n"
   ]
  },
  {
   "cell_type": "code",
   "execution_count": 2,
   "id": "2ed8fb3e",
   "metadata": {},
   "outputs": [
    {
     "data": {
      "text/plain": [
       "DatetimeIndex(['2024-11-25', '2024-12-25', '2025-01-25'], dtype='datetime64[ns]', freq=None)"
      ]
     },
     "execution_count": 2,
     "metadata": {},
     "output_type": "execute_result"
    }
   ],
   "source": [
    "dates = pd.DatetimeIndex(\n",
    "    [\n",
    "        pd.Timestamp(\"2024-11-25\"),\n",
    "        pd.Timestamp(\"2024-12-25\"),\n",
    "        pd.Timestamp(\"2025-01-25\"),\n",
    "    ]\n",
    ")\n",
    "\n",
    "# dates = pd.to_datetime(['2024-11-25', \"2024-12-25\", \"2025-01-25\"])\n",
    "\n",
    "dates"
   ]
  },
  {
   "cell_type": "markdown",
   "id": "9e1e8aec",
   "metadata": {},
   "source": [
    "Find the time between each one of these dates\n"
   ]
  },
  {
   "cell_type": "code",
   "execution_count": 3,
   "id": "f8dbc1de",
   "metadata": {},
   "outputs": [
    {
     "data": {
      "text/plain": [
       "2024-11-25       NaT\n",
       "2024-12-25   30 days\n",
       "2025-01-25   31 days\n",
       "dtype: timedelta64[ns]"
      ]
     },
     "execution_count": 3,
     "metadata": {},
     "output_type": "execute_result"
    }
   ],
   "source": [
    "dates.to_series().diff()"
   ]
  },
  {
   "cell_type": "markdown",
   "id": "58eb0c7a",
   "metadata": {},
   "source": [
    "Create a DataFrame with the `dates` as the index and add 3 new columns that hold the day name, month name, and the year.\n"
   ]
  },
  {
   "cell_type": "code",
   "execution_count": null,
   "id": "45fba0cc",
   "metadata": {},
   "outputs": [
    {
     "data": {
      "text/html": [
       "<div>\n",
       "<style scoped>\n",
       "    .dataframe tbody tr th:only-of-type {\n",
       "        vertical-align: middle;\n",
       "    }\n",
       "\n",
       "    .dataframe tbody tr th {\n",
       "        vertical-align: top;\n",
       "    }\n",
       "\n",
       "    .dataframe thead th {\n",
       "        text-align: right;\n",
       "    }\n",
       "</style>\n",
       "<table border=\"1\" class=\"dataframe\">\n",
       "  <thead>\n",
       "    <tr style=\"text-align: right;\">\n",
       "      <th></th>\n",
       "      <th>Day</th>\n",
       "      <th>Month</th>\n",
       "      <th>Year</th>\n",
       "    </tr>\n",
       "  </thead>\n",
       "  <tbody>\n",
       "    <tr>\n",
       "      <th>2024-07-20</th>\n",
       "      <td>NaN</td>\n",
       "      <td>NaN</td>\n",
       "      <td>NaN</td>\n",
       "    </tr>\n",
       "    <tr>\n",
       "      <th>2024-07-21</th>\n",
       "      <td>NaN</td>\n",
       "      <td>NaN</td>\n",
       "      <td>NaN</td>\n",
       "    </tr>\n",
       "    <tr>\n",
       "      <th>2024-07-22</th>\n",
       "      <td>NaN</td>\n",
       "      <td>NaN</td>\n",
       "      <td>NaN</td>\n",
       "    </tr>\n",
       "    <tr>\n",
       "      <th>2024-07-23</th>\n",
       "      <td>NaN</td>\n",
       "      <td>NaN</td>\n",
       "      <td>NaN</td>\n",
       "    </tr>\n",
       "    <tr>\n",
       "      <th>2024-07-24</th>\n",
       "      <td>NaN</td>\n",
       "      <td>NaN</td>\n",
       "      <td>NaN</td>\n",
       "    </tr>\n",
       "  </tbody>\n",
       "</table>\n",
       "</div>"
      ],
      "text/plain": [
       "            Day Month Year\n",
       "2024-07-20  NaN   NaN  NaN\n",
       "2024-07-21  NaN   NaN  NaN\n",
       "2024-07-22  NaN   NaN  NaN\n",
       "2024-07-23  NaN   NaN  NaN\n",
       "2024-07-24  NaN   NaN  NaN"
      ]
     },
     "execution_count": 4,
     "metadata": {},
     "output_type": "execute_result"
    }
   ],
   "source": [
    "years = pd.date_range(start=\"2024-07-20\", end=\"2024-12-09\")\n",
    "dates = pd.DataFrame(index=years, columns=[\"Day\", \"Month\", \"Year\"])\n",
    "dates.set_index(years, inplace=True)\n",
    "dates.head()"
   ]
  },
  {
   "cell_type": "code",
   "execution_count": null,
   "id": "2bba0454",
   "metadata": {},
   "outputs": [
    {
     "data": {
      "text/html": [
       "<div>\n",
       "<style scoped>\n",
       "    .dataframe tbody tr th:only-of-type {\n",
       "        vertical-align: middle;\n",
       "    }\n",
       "\n",
       "    .dataframe tbody tr th {\n",
       "        vertical-align: top;\n",
       "    }\n",
       "\n",
       "    .dataframe thead th {\n",
       "        text-align: right;\n",
       "    }\n",
       "</style>\n",
       "<table border=\"1\" class=\"dataframe\">\n",
       "  <thead>\n",
       "    <tr style=\"text-align: right;\">\n",
       "      <th></th>\n",
       "      <th>Day</th>\n",
       "      <th>Month</th>\n",
       "      <th>Year</th>\n",
       "    </tr>\n",
       "  </thead>\n",
       "  <tbody>\n",
       "    <tr>\n",
       "      <th>2024-07-20</th>\n",
       "      <td>Saturday</td>\n",
       "      <td>July</td>\n",
       "      <td>2024</td>\n",
       "    </tr>\n",
       "    <tr>\n",
       "      <th>2024-07-21</th>\n",
       "      <td>Sunday</td>\n",
       "      <td>July</td>\n",
       "      <td>2024</td>\n",
       "    </tr>\n",
       "    <tr>\n",
       "      <th>2024-07-22</th>\n",
       "      <td>Monday</td>\n",
       "      <td>July</td>\n",
       "      <td>2024</td>\n",
       "    </tr>\n",
       "    <tr>\n",
       "      <th>2024-07-23</th>\n",
       "      <td>Tuesday</td>\n",
       "      <td>July</td>\n",
       "      <td>2024</td>\n",
       "    </tr>\n",
       "    <tr>\n",
       "      <th>2024-07-24</th>\n",
       "      <td>Wednesday</td>\n",
       "      <td>July</td>\n",
       "      <td>2024</td>\n",
       "    </tr>\n",
       "    <tr>\n",
       "      <th>...</th>\n",
       "      <td>...</td>\n",
       "      <td>...</td>\n",
       "      <td>...</td>\n",
       "    </tr>\n",
       "    <tr>\n",
       "      <th>2024-12-05</th>\n",
       "      <td>Thursday</td>\n",
       "      <td>December</td>\n",
       "      <td>2024</td>\n",
       "    </tr>\n",
       "    <tr>\n",
       "      <th>2024-12-06</th>\n",
       "      <td>Friday</td>\n",
       "      <td>December</td>\n",
       "      <td>2024</td>\n",
       "    </tr>\n",
       "    <tr>\n",
       "      <th>2024-12-07</th>\n",
       "      <td>Saturday</td>\n",
       "      <td>December</td>\n",
       "      <td>2024</td>\n",
       "    </tr>\n",
       "    <tr>\n",
       "      <th>2024-12-08</th>\n",
       "      <td>Sunday</td>\n",
       "      <td>December</td>\n",
       "      <td>2024</td>\n",
       "    </tr>\n",
       "    <tr>\n",
       "      <th>2024-12-09</th>\n",
       "      <td>Monday</td>\n",
       "      <td>December</td>\n",
       "      <td>2024</td>\n",
       "    </tr>\n",
       "  </tbody>\n",
       "</table>\n",
       "<p>143 rows × 3 columns</p>\n",
       "</div>"
      ],
      "text/plain": [
       "                  Day     Month  Year\n",
       "2024-07-20   Saturday      July  2024\n",
       "2024-07-21     Sunday      July  2024\n",
       "2024-07-22     Monday      July  2024\n",
       "2024-07-23    Tuesday      July  2024\n",
       "2024-07-24  Wednesday      July  2024\n",
       "...               ...       ...   ...\n",
       "2024-12-05   Thursday  December  2024\n",
       "2024-12-06     Friday  December  2024\n",
       "2024-12-07   Saturday  December  2024\n",
       "2024-12-08     Sunday  December  2024\n",
       "2024-12-09     Monday  December  2024\n",
       "\n",
       "[143 rows x 3 columns]"
      ]
     },
     "execution_count": 5,
     "metadata": {},
     "output_type": "execute_result"
    }
   ],
   "source": [
    "dates[\"Year\"] = dates.index.year\n",
    "dates[\"Day\"] = dates.index.day_name()\n",
    "dates[\"Month\"] = dates.index.month_name()\n",
    "dates"
   ]
  },
  {
   "cell_type": "code",
   "execution_count": 6,
   "id": "c31961d7",
   "metadata": {},
   "outputs": [
    {
     "data": {
      "text/html": [
       "<div>\n",
       "<style scoped>\n",
       "    .dataframe tbody tr th:only-of-type {\n",
       "        vertical-align: middle;\n",
       "    }\n",
       "\n",
       "    .dataframe tbody tr th {\n",
       "        vertical-align: top;\n",
       "    }\n",
       "\n",
       "    .dataframe thead th {\n",
       "        text-align: right;\n",
       "    }\n",
       "</style>\n",
       "<table border=\"1\" class=\"dataframe\">\n",
       "  <thead>\n",
       "    <tr style=\"text-align: right;\">\n",
       "      <th></th>\n",
       "      <th>Day</th>\n",
       "      <th>Month</th>\n",
       "      <th>Year</th>\n",
       "    </tr>\n",
       "  </thead>\n",
       "  <tbody>\n",
       "    <tr>\n",
       "      <th>2024-07-22</th>\n",
       "      <td>Monday</td>\n",
       "      <td>July</td>\n",
       "      <td>2024</td>\n",
       "    </tr>\n",
       "    <tr>\n",
       "      <th>2024-07-23</th>\n",
       "      <td>Tuesday</td>\n",
       "      <td>July</td>\n",
       "      <td>2024</td>\n",
       "    </tr>\n",
       "    <tr>\n",
       "      <th>2024-07-24</th>\n",
       "      <td>Wednesday</td>\n",
       "      <td>July</td>\n",
       "      <td>2024</td>\n",
       "    </tr>\n",
       "    <tr>\n",
       "      <th>2024-07-25</th>\n",
       "      <td>Thursday</td>\n",
       "      <td>July</td>\n",
       "      <td>2024</td>\n",
       "    </tr>\n",
       "    <tr>\n",
       "      <th>2024-07-26</th>\n",
       "      <td>Friday</td>\n",
       "      <td>July</td>\n",
       "      <td>2024</td>\n",
       "    </tr>\n",
       "    <tr>\n",
       "      <th>...</th>\n",
       "      <td>...</td>\n",
       "      <td>...</td>\n",
       "      <td>...</td>\n",
       "    </tr>\n",
       "    <tr>\n",
       "      <th>2024-12-03</th>\n",
       "      <td>Tuesday</td>\n",
       "      <td>December</td>\n",
       "      <td>2024</td>\n",
       "    </tr>\n",
       "    <tr>\n",
       "      <th>2024-12-04</th>\n",
       "      <td>Wednesday</td>\n",
       "      <td>December</td>\n",
       "      <td>2024</td>\n",
       "    </tr>\n",
       "    <tr>\n",
       "      <th>2024-12-05</th>\n",
       "      <td>Thursday</td>\n",
       "      <td>December</td>\n",
       "      <td>2024</td>\n",
       "    </tr>\n",
       "    <tr>\n",
       "      <th>2024-12-06</th>\n",
       "      <td>Friday</td>\n",
       "      <td>December</td>\n",
       "      <td>2024</td>\n",
       "    </tr>\n",
       "    <tr>\n",
       "      <th>2024-12-09</th>\n",
       "      <td>Monday</td>\n",
       "      <td>December</td>\n",
       "      <td>2024</td>\n",
       "    </tr>\n",
       "  </tbody>\n",
       "</table>\n",
       "<p>101 rows × 3 columns</p>\n",
       "</div>"
      ],
      "text/plain": [
       "                  Day     Month  Year\n",
       "2024-07-22     Monday      July  2024\n",
       "2024-07-23    Tuesday      July  2024\n",
       "2024-07-24  Wednesday      July  2024\n",
       "2024-07-25   Thursday      July  2024\n",
       "2024-07-26     Friday      July  2024\n",
       "...               ...       ...   ...\n",
       "2024-12-03    Tuesday  December  2024\n",
       "2024-12-04  Wednesday  December  2024\n",
       "2024-12-05   Thursday  December  2024\n",
       "2024-12-06     Friday  December  2024\n",
       "2024-12-09     Monday  December  2024\n",
       "\n",
       "[101 rows x 3 columns]"
      ]
     },
     "execution_count": 6,
     "metadata": {},
     "output_type": "execute_result"
    }
   ],
   "source": [
    "del_indices = dates[(dates[\"Day\"] == \"Saturday\") | (dates[\"Day\"] == \"Sunday\")].index\n",
    "\n",
    "dates.drop(del_indices, inplace=True)\n",
    "\n",
    "dates"
   ]
  },
  {
   "cell_type": "markdown",
   "id": "abfbc94e",
   "metadata": {},
   "source": [
    "Fill in the gaps of our DataFrame with every missing date (between our 3 dates), and make sure there are no NaNs\n"
   ]
  },
  {
   "cell_type": "code",
   "execution_count": 7,
   "id": "d26c2652",
   "metadata": {},
   "outputs": [],
   "source": [
    "indices = pd.date_range(start=\"2024-07-20\", end=\"2024-12-09\")\n",
    "\n",
    "dates = dates.reindex(index=indices, fill_value=\"CLOSED\")"
   ]
  },
  {
   "cell_type": "code",
   "execution_count": 8,
   "id": "244ac007",
   "metadata": {},
   "outputs": [
    {
     "data": {
      "text/html": [
       "<div>\n",
       "<style scoped>\n",
       "    .dataframe tbody tr th:only-of-type {\n",
       "        vertical-align: middle;\n",
       "    }\n",
       "\n",
       "    .dataframe tbody tr th {\n",
       "        vertical-align: top;\n",
       "    }\n",
       "\n",
       "    .dataframe thead th {\n",
       "        text-align: right;\n",
       "    }\n",
       "</style>\n",
       "<table border=\"1\" class=\"dataframe\">\n",
       "  <thead>\n",
       "    <tr style=\"text-align: right;\">\n",
       "      <th></th>\n",
       "      <th>Day</th>\n",
       "      <th>Month</th>\n",
       "      <th>Year</th>\n",
       "    </tr>\n",
       "  </thead>\n",
       "  <tbody>\n",
       "    <tr>\n",
       "      <th>2024-07-20</th>\n",
       "      <td>CLOSED</td>\n",
       "      <td>CLOSED</td>\n",
       "      <td>CLOSED</td>\n",
       "    </tr>\n",
       "    <tr>\n",
       "      <th>2024-07-21</th>\n",
       "      <td>CLOSED</td>\n",
       "      <td>CLOSED</td>\n",
       "      <td>CLOSED</td>\n",
       "    </tr>\n",
       "    <tr>\n",
       "      <th>2024-07-22</th>\n",
       "      <td>Monday</td>\n",
       "      <td>July</td>\n",
       "      <td>2024</td>\n",
       "    </tr>\n",
       "    <tr>\n",
       "      <th>2024-07-23</th>\n",
       "      <td>Tuesday</td>\n",
       "      <td>July</td>\n",
       "      <td>2024</td>\n",
       "    </tr>\n",
       "    <tr>\n",
       "      <th>2024-07-24</th>\n",
       "      <td>Wednesday</td>\n",
       "      <td>July</td>\n",
       "      <td>2024</td>\n",
       "    </tr>\n",
       "  </tbody>\n",
       "</table>\n",
       "</div>"
      ],
      "text/plain": [
       "                  Day   Month    Year\n",
       "2024-07-20     CLOSED  CLOSED  CLOSED\n",
       "2024-07-21     CLOSED  CLOSED  CLOSED\n",
       "2024-07-22     Monday    July    2024\n",
       "2024-07-23    Tuesday    July    2024\n",
       "2024-07-24  Wednesday    July    2024"
      ]
     },
     "execution_count": 8,
     "metadata": {},
     "output_type": "execute_result"
    }
   ],
   "source": [
    "dates.head()"
   ]
  },
  {
   "cell_type": "markdown",
   "id": "157fb1e4",
   "metadata": {},
   "source": [
    "Convert our DatetimeIndex to a PeriodIndex which represents a whole day per date.\n"
   ]
  },
  {
   "cell_type": "code",
   "execution_count": 9,
   "id": "ff3b486f",
   "metadata": {},
   "outputs": [
    {
     "data": {
      "text/plain": [
       "PeriodIndex(['2024-07-20', '2024-07-21', '2024-07-22', '2024-07-23',\n",
       "             '2024-07-24', '2024-07-25', '2024-07-26', '2024-07-27',\n",
       "             '2024-07-28', '2024-07-29',\n",
       "             ...\n",
       "             '2024-11-30', '2024-12-01', '2024-12-02', '2024-12-03',\n",
       "             '2024-12-04', '2024-12-05', '2024-12-06', '2024-12-07',\n",
       "             '2024-12-08', '2024-12-09'],\n",
       "            dtype='period[D]', length=143)"
      ]
     },
     "execution_count": 9,
     "metadata": {},
     "output_type": "execute_result"
    }
   ],
   "source": [
    "pd.PeriodIndex(dates.index)"
   ]
  }
 ],
 "metadata": {
  "kernelspec": {
   "display_name": "Python 3",
   "language": "python",
   "name": "python3"
  },
  "language_info": {
   "codemirror_mode": {
    "name": "ipython",
    "version": 3
   },
   "file_extension": ".py",
   "mimetype": "text/x-python",
   "name": "python",
   "nbconvert_exporter": "python",
   "pygments_lexer": "ipython3",
   "version": "3.12.7"
  }
 },
 "nbformat": 4,
 "nbformat_minor": 5
}
